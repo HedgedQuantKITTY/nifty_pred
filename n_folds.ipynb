{
 "cells": [
  {
   "cell_type": "code",
   "execution_count": 1,
   "id": "47bc2f05",
   "metadata": {},
   "outputs": [
    {
     "data": {
      "text/plain": [
       "Index(['Date', 'Open', 'High', 'Low', 'Close', 'SMA_14', 'EMA_14', 'RSI_14',\n",
       "       'ATR_14', 'STOCH_K', 'STOCH_D', 'High_pct_change', 'Low_pct_change',\n",
       "       'Close_pct_change', 'INDEX_FUTURES_Buy_Amount in Crore',\n",
       "       'INDEX_FUTURES_Buy_No. of Contracts',\n",
       "       'INDEX_FUTURES_OI_Amount in Crore', 'INDEX_FUTURES_OI_No. of Contracts',\n",
       "       'INDEX_FUTURES_Sell_Amount in crore',\n",
       "       'INDEX_FUTURES_Sell_No. of Contracts',\n",
       "       'INDEX_OPTIONS_Buy_Amount in Crore',\n",
       "       'INDEX_OPTIONS_Buy_No. of Contracts',\n",
       "       'INDEX_OPTIONS_OI_Amount in Crore', 'INDEX_OPTIONS_OI_No. of Contracts',\n",
       "       'INDEX_OPTIONS_Sell_Amount in crore',\n",
       "       'INDEX_OPTIONS_Sell_No. of Contracts',\n",
       "       'INTEREST_RATE_FUTURES_Buy_Amount in Crore',\n",
       "       'INTEREST_RATE_FUTURES_Buy_No. of Contracts',\n",
       "       'INTEREST_RATE_FUTURES_OI_Amount in Crore',\n",
       "       'INTEREST_RATE_FUTURES_OI_No. of Contracts',\n",
       "       'INTEREST_RATE_FUTURES_Sell_Amount in crore',\n",
       "       'INTEREST_RATE_FUTURES_Sell_No. of Contracts',\n",
       "       'STOCK_FUTURES_Buy_Amount in Crore',\n",
       "       'STOCK_FUTURES_Buy_No. of Contracts',\n",
       "       'STOCK_FUTURES_OI_Amount in Crore', 'STOCK_FUTURES_OI_No. of Contracts',\n",
       "       'STOCK_FUTURES_Sell_Amount in crore',\n",
       "       'STOCK_FUTURES_Sell_No. of Contracts',\n",
       "       'STOCK_OPTIONS_Buy_Amount in Crore',\n",
       "       'STOCK_OPTIONS_Buy_No. of Contracts',\n",
       "       'STOCK_OPTIONS_OI_Amount in Crore', 'STOCK_OPTIONS_OI_No. of Contracts',\n",
       "       'STOCK_OPTIONS_Sell_Amount in crore',\n",
       "       'STOCK_OPTIONS_Sell_No. of Contracts', 'P/E', 'P/B', 'Div Yield%',\n",
       "       'SPX_Close', 'SPX_High', 'SPX_Low', 'SPX_Open', 'SPX_Volume',\n",
       "       'VIX_Open', 'VIX_High', 'VIX_Low', 'VIX_Close', 'expiry', 'put_ratio',\n",
       "       'call_ratio', 'days_to_expiry'],\n",
       "      dtype='object')"
      ]
     },
     "execution_count": 1,
     "metadata": {},
     "output_type": "execute_result"
    }
   ],
   "source": [
    "import pandas as pd\n",
    "df = pd.read_csv(r'C:\\Users\\parul.kakade\\Documents\\NIFTY_Prediction\\6.SVM\\Data\\merged_big.csv')\n",
    "df.drop(columns=['Ticker_y', 'Ticker_x'], inplace=True)\n",
    "df.columns"
   ]
  },
  {
   "cell_type": "code",
   "execution_count": 2,
   "id": "fd45c95c",
   "metadata": {},
   "outputs": [
    {
     "name": "stderr",
     "output_type": "stream",
     "text": [
      "C:\\Users\\parul.kakade\\AppData\\Local\\Temp\\ipykernel_22212\\4091701828.py:6: PerformanceWarning: DataFrame is highly fragmented.  This is usually the result of calling `frame.insert` many times, which has poor performance.  Consider joining all columns at once using pd.concat(axis=1) instead. To get a de-fragmented frame, use `newframe = frame.copy()`\n",
      "  df[f\"{col}_lag{lag}\"] = df[col].shift(lag)\n",
      "C:\\Users\\parul.kakade\\AppData\\Local\\Temp\\ipykernel_22212\\4091701828.py:6: PerformanceWarning: DataFrame is highly fragmented.  This is usually the result of calling `frame.insert` many times, which has poor performance.  Consider joining all columns at once using pd.concat(axis=1) instead. To get a de-fragmented frame, use `newframe = frame.copy()`\n",
      "  df[f\"{col}_lag{lag}\"] = df[col].shift(lag)\n",
      "C:\\Users\\parul.kakade\\AppData\\Local\\Temp\\ipykernel_22212\\4091701828.py:6: PerformanceWarning: DataFrame is highly fragmented.  This is usually the result of calling `frame.insert` many times, which has poor performance.  Consider joining all columns at once using pd.concat(axis=1) instead. To get a de-fragmented frame, use `newframe = frame.copy()`\n",
      "  df[f\"{col}_lag{lag}\"] = df[col].shift(lag)\n",
      "C:\\Users\\parul.kakade\\AppData\\Local\\Temp\\ipykernel_22212\\4091701828.py:6: PerformanceWarning: DataFrame is highly fragmented.  This is usually the result of calling `frame.insert` many times, which has poor performance.  Consider joining all columns at once using pd.concat(axis=1) instead. To get a de-fragmented frame, use `newframe = frame.copy()`\n",
      "  df[f\"{col}_lag{lag}\"] = df[col].shift(lag)\n",
      "C:\\Users\\parul.kakade\\AppData\\Local\\Temp\\ipykernel_22212\\4091701828.py:6: PerformanceWarning: DataFrame is highly fragmented.  This is usually the result of calling `frame.insert` many times, which has poor performance.  Consider joining all columns at once using pd.concat(axis=1) instead. To get a de-fragmented frame, use `newframe = frame.copy()`\n",
      "  df[f\"{col}_lag{lag}\"] = df[col].shift(lag)\n",
      "C:\\Users\\parul.kakade\\AppData\\Local\\Temp\\ipykernel_22212\\4091701828.py:6: PerformanceWarning: DataFrame is highly fragmented.  This is usually the result of calling `frame.insert` many times, which has poor performance.  Consider joining all columns at once using pd.concat(axis=1) instead. To get a de-fragmented frame, use `newframe = frame.copy()`\n",
      "  df[f\"{col}_lag{lag}\"] = df[col].shift(lag)\n",
      "C:\\Users\\parul.kakade\\AppData\\Local\\Temp\\ipykernel_22212\\4091701828.py:6: PerformanceWarning: DataFrame is highly fragmented.  This is usually the result of calling `frame.insert` many times, which has poor performance.  Consider joining all columns at once using pd.concat(axis=1) instead. To get a de-fragmented frame, use `newframe = frame.copy()`\n",
      "  df[f\"{col}_lag{lag}\"] = df[col].shift(lag)\n",
      "C:\\Users\\parul.kakade\\AppData\\Local\\Temp\\ipykernel_22212\\4091701828.py:6: PerformanceWarning: DataFrame is highly fragmented.  This is usually the result of calling `frame.insert` many times, which has poor performance.  Consider joining all columns at once using pd.concat(axis=1) instead. To get a de-fragmented frame, use `newframe = frame.copy()`\n",
      "  df[f\"{col}_lag{lag}\"] = df[col].shift(lag)\n",
      "C:\\Users\\parul.kakade\\AppData\\Local\\Temp\\ipykernel_22212\\4091701828.py:6: PerformanceWarning: DataFrame is highly fragmented.  This is usually the result of calling `frame.insert` many times, which has poor performance.  Consider joining all columns at once using pd.concat(axis=1) instead. To get a de-fragmented frame, use `newframe = frame.copy()`\n",
      "  df[f\"{col}_lag{lag}\"] = df[col].shift(lag)\n",
      "C:\\Users\\parul.kakade\\AppData\\Local\\Temp\\ipykernel_22212\\4091701828.py:6: PerformanceWarning: DataFrame is highly fragmented.  This is usually the result of calling `frame.insert` many times, which has poor performance.  Consider joining all columns at once using pd.concat(axis=1) instead. To get a de-fragmented frame, use `newframe = frame.copy()`\n",
      "  df[f\"{col}_lag{lag}\"] = df[col].shift(lag)\n",
      "C:\\Users\\parul.kakade\\AppData\\Local\\Temp\\ipykernel_22212\\4091701828.py:6: PerformanceWarning: DataFrame is highly fragmented.  This is usually the result of calling `frame.insert` many times, which has poor performance.  Consider joining all columns at once using pd.concat(axis=1) instead. To get a de-fragmented frame, use `newframe = frame.copy()`\n",
      "  df[f\"{col}_lag{lag}\"] = df[col].shift(lag)\n",
      "C:\\Users\\parul.kakade\\AppData\\Local\\Temp\\ipykernel_22212\\4091701828.py:6: PerformanceWarning: DataFrame is highly fragmented.  This is usually the result of calling `frame.insert` many times, which has poor performance.  Consider joining all columns at once using pd.concat(axis=1) instead. To get a de-fragmented frame, use `newframe = frame.copy()`\n",
      "  df[f\"{col}_lag{lag}\"] = df[col].shift(lag)\n",
      "C:\\Users\\parul.kakade\\AppData\\Local\\Temp\\ipykernel_22212\\4091701828.py:6: PerformanceWarning: DataFrame is highly fragmented.  This is usually the result of calling `frame.insert` many times, which has poor performance.  Consider joining all columns at once using pd.concat(axis=1) instead. To get a de-fragmented frame, use `newframe = frame.copy()`\n",
      "  df[f\"{col}_lag{lag}\"] = df[col].shift(lag)\n",
      "C:\\Users\\parul.kakade\\AppData\\Local\\Temp\\ipykernel_22212\\4091701828.py:6: PerformanceWarning: DataFrame is highly fragmented.  This is usually the result of calling `frame.insert` many times, which has poor performance.  Consider joining all columns at once using pd.concat(axis=1) instead. To get a de-fragmented frame, use `newframe = frame.copy()`\n",
      "  df[f\"{col}_lag{lag}\"] = df[col].shift(lag)\n",
      "C:\\Users\\parul.kakade\\AppData\\Local\\Temp\\ipykernel_22212\\4091701828.py:6: PerformanceWarning: DataFrame is highly fragmented.  This is usually the result of calling `frame.insert` many times, which has poor performance.  Consider joining all columns at once using pd.concat(axis=1) instead. To get a de-fragmented frame, use `newframe = frame.copy()`\n",
      "  df[f\"{col}_lag{lag}\"] = df[col].shift(lag)\n",
      "C:\\Users\\parul.kakade\\AppData\\Local\\Temp\\ipykernel_22212\\4091701828.py:6: PerformanceWarning: DataFrame is highly fragmented.  This is usually the result of calling `frame.insert` many times, which has poor performance.  Consider joining all columns at once using pd.concat(axis=1) instead. To get a de-fragmented frame, use `newframe = frame.copy()`\n",
      "  df[f\"{col}_lag{lag}\"] = df[col].shift(lag)\n",
      "C:\\Users\\parul.kakade\\AppData\\Local\\Temp\\ipykernel_22212\\4091701828.py:6: PerformanceWarning: DataFrame is highly fragmented.  This is usually the result of calling `frame.insert` many times, which has poor performance.  Consider joining all columns at once using pd.concat(axis=1) instead. To get a de-fragmented frame, use `newframe = frame.copy()`\n",
      "  df[f\"{col}_lag{lag}\"] = df[col].shift(lag)\n",
      "C:\\Users\\parul.kakade\\AppData\\Local\\Temp\\ipykernel_22212\\4091701828.py:6: PerformanceWarning: DataFrame is highly fragmented.  This is usually the result of calling `frame.insert` many times, which has poor performance.  Consider joining all columns at once using pd.concat(axis=1) instead. To get a de-fragmented frame, use `newframe = frame.copy()`\n",
      "  df[f\"{col}_lag{lag}\"] = df[col].shift(lag)\n",
      "C:\\Users\\parul.kakade\\AppData\\Local\\Temp\\ipykernel_22212\\4091701828.py:6: PerformanceWarning: DataFrame is highly fragmented.  This is usually the result of calling `frame.insert` many times, which has poor performance.  Consider joining all columns at once using pd.concat(axis=1) instead. To get a de-fragmented frame, use `newframe = frame.copy()`\n",
      "  df[f\"{col}_lag{lag}\"] = df[col].shift(lag)\n",
      "C:\\Users\\parul.kakade\\AppData\\Local\\Temp\\ipykernel_22212\\4091701828.py:6: PerformanceWarning: DataFrame is highly fragmented.  This is usually the result of calling `frame.insert` many times, which has poor performance.  Consider joining all columns at once using pd.concat(axis=1) instead. To get a de-fragmented frame, use `newframe = frame.copy()`\n",
      "  df[f\"{col}_lag{lag}\"] = df[col].shift(lag)\n",
      "C:\\Users\\parul.kakade\\AppData\\Local\\Temp\\ipykernel_22212\\4091701828.py:6: PerformanceWarning: DataFrame is highly fragmented.  This is usually the result of calling `frame.insert` many times, which has poor performance.  Consider joining all columns at once using pd.concat(axis=1) instead. To get a de-fragmented frame, use `newframe = frame.copy()`\n",
      "  df[f\"{col}_lag{lag}\"] = df[col].shift(lag)\n",
      "C:\\Users\\parul.kakade\\AppData\\Local\\Temp\\ipykernel_22212\\4091701828.py:6: PerformanceWarning: DataFrame is highly fragmented.  This is usually the result of calling `frame.insert` many times, which has poor performance.  Consider joining all columns at once using pd.concat(axis=1) instead. To get a de-fragmented frame, use `newframe = frame.copy()`\n",
      "  df[f\"{col}_lag{lag}\"] = df[col].shift(lag)\n",
      "C:\\Users\\parul.kakade\\AppData\\Local\\Temp\\ipykernel_22212\\4091701828.py:6: PerformanceWarning: DataFrame is highly fragmented.  This is usually the result of calling `frame.insert` many times, which has poor performance.  Consider joining all columns at once using pd.concat(axis=1) instead. To get a de-fragmented frame, use `newframe = frame.copy()`\n",
      "  df[f\"{col}_lag{lag}\"] = df[col].shift(lag)\n",
      "C:\\Users\\parul.kakade\\AppData\\Local\\Temp\\ipykernel_22212\\4091701828.py:6: PerformanceWarning: DataFrame is highly fragmented.  This is usually the result of calling `frame.insert` many times, which has poor performance.  Consider joining all columns at once using pd.concat(axis=1) instead. To get a de-fragmented frame, use `newframe = frame.copy()`\n",
      "  df[f\"{col}_lag{lag}\"] = df[col].shift(lag)\n",
      "C:\\Users\\parul.kakade\\AppData\\Local\\Temp\\ipykernel_22212\\4091701828.py:6: PerformanceWarning: DataFrame is highly fragmented.  This is usually the result of calling `frame.insert` many times, which has poor performance.  Consider joining all columns at once using pd.concat(axis=1) instead. To get a de-fragmented frame, use `newframe = frame.copy()`\n",
      "  df[f\"{col}_lag{lag}\"] = df[col].shift(lag)\n",
      "C:\\Users\\parul.kakade\\AppData\\Local\\Temp\\ipykernel_22212\\4091701828.py:6: PerformanceWarning: DataFrame is highly fragmented.  This is usually the result of calling `frame.insert` many times, which has poor performance.  Consider joining all columns at once using pd.concat(axis=1) instead. To get a de-fragmented frame, use `newframe = frame.copy()`\n",
      "  df[f\"{col}_lag{lag}\"] = df[col].shift(lag)\n",
      "C:\\Users\\parul.kakade\\AppData\\Local\\Temp\\ipykernel_22212\\4091701828.py:6: PerformanceWarning: DataFrame is highly fragmented.  This is usually the result of calling `frame.insert` many times, which has poor performance.  Consider joining all columns at once using pd.concat(axis=1) instead. To get a de-fragmented frame, use `newframe = frame.copy()`\n",
      "  df[f\"{col}_lag{lag}\"] = df[col].shift(lag)\n",
      "C:\\Users\\parul.kakade\\AppData\\Local\\Temp\\ipykernel_22212\\4091701828.py:6: PerformanceWarning: DataFrame is highly fragmented.  This is usually the result of calling `frame.insert` many times, which has poor performance.  Consider joining all columns at once using pd.concat(axis=1) instead. To get a de-fragmented frame, use `newframe = frame.copy()`\n",
      "  df[f\"{col}_lag{lag}\"] = df[col].shift(lag)\n",
      "C:\\Users\\parul.kakade\\AppData\\Local\\Temp\\ipykernel_22212\\4091701828.py:6: PerformanceWarning: DataFrame is highly fragmented.  This is usually the result of calling `frame.insert` many times, which has poor performance.  Consider joining all columns at once using pd.concat(axis=1) instead. To get a de-fragmented frame, use `newframe = frame.copy()`\n",
      "  df[f\"{col}_lag{lag}\"] = df[col].shift(lag)\n",
      "C:\\Users\\parul.kakade\\AppData\\Local\\Temp\\ipykernel_22212\\4091701828.py:6: PerformanceWarning: DataFrame is highly fragmented.  This is usually the result of calling `frame.insert` many times, which has poor performance.  Consider joining all columns at once using pd.concat(axis=1) instead. To get a de-fragmented frame, use `newframe = frame.copy()`\n",
      "  df[f\"{col}_lag{lag}\"] = df[col].shift(lag)\n",
      "C:\\Users\\parul.kakade\\AppData\\Local\\Temp\\ipykernel_22212\\4091701828.py:6: PerformanceWarning: DataFrame is highly fragmented.  This is usually the result of calling `frame.insert` many times, which has poor performance.  Consider joining all columns at once using pd.concat(axis=1) instead. To get a de-fragmented frame, use `newframe = frame.copy()`\n",
      "  df[f\"{col}_lag{lag}\"] = df[col].shift(lag)\n",
      "C:\\Users\\parul.kakade\\AppData\\Local\\Temp\\ipykernel_22212\\4091701828.py:6: PerformanceWarning: DataFrame is highly fragmented.  This is usually the result of calling `frame.insert` many times, which has poor performance.  Consider joining all columns at once using pd.concat(axis=1) instead. To get a de-fragmented frame, use `newframe = frame.copy()`\n",
      "  df[f\"{col}_lag{lag}\"] = df[col].shift(lag)\n",
      "C:\\Users\\parul.kakade\\AppData\\Local\\Temp\\ipykernel_22212\\4091701828.py:6: PerformanceWarning: DataFrame is highly fragmented.  This is usually the result of calling `frame.insert` many times, which has poor performance.  Consider joining all columns at once using pd.concat(axis=1) instead. To get a de-fragmented frame, use `newframe = frame.copy()`\n",
      "  df[f\"{col}_lag{lag}\"] = df[col].shift(lag)\n",
      "C:\\Users\\parul.kakade\\AppData\\Local\\Temp\\ipykernel_22212\\4091701828.py:6: PerformanceWarning: DataFrame is highly fragmented.  This is usually the result of calling `frame.insert` many times, which has poor performance.  Consider joining all columns at once using pd.concat(axis=1) instead. To get a de-fragmented frame, use `newframe = frame.copy()`\n",
      "  df[f\"{col}_lag{lag}\"] = df[col].shift(lag)\n",
      "C:\\Users\\parul.kakade\\AppData\\Local\\Temp\\ipykernel_22212\\4091701828.py:6: PerformanceWarning: DataFrame is highly fragmented.  This is usually the result of calling `frame.insert` many times, which has poor performance.  Consider joining all columns at once using pd.concat(axis=1) instead. To get a de-fragmented frame, use `newframe = frame.copy()`\n",
      "  df[f\"{col}_lag{lag}\"] = df[col].shift(lag)\n",
      "C:\\Users\\parul.kakade\\AppData\\Local\\Temp\\ipykernel_22212\\4091701828.py:6: PerformanceWarning: DataFrame is highly fragmented.  This is usually the result of calling `frame.insert` many times, which has poor performance.  Consider joining all columns at once using pd.concat(axis=1) instead. To get a de-fragmented frame, use `newframe = frame.copy()`\n",
      "  df[f\"{col}_lag{lag}\"] = df[col].shift(lag)\n",
      "C:\\Users\\parul.kakade\\AppData\\Local\\Temp\\ipykernel_22212\\4091701828.py:6: PerformanceWarning: DataFrame is highly fragmented.  This is usually the result of calling `frame.insert` many times, which has poor performance.  Consider joining all columns at once using pd.concat(axis=1) instead. To get a de-fragmented frame, use `newframe = frame.copy()`\n",
      "  df[f\"{col}_lag{lag}\"] = df[col].shift(lag)\n",
      "C:\\Users\\parul.kakade\\AppData\\Local\\Temp\\ipykernel_22212\\4091701828.py:6: PerformanceWarning: DataFrame is highly fragmented.  This is usually the result of calling `frame.insert` many times, which has poor performance.  Consider joining all columns at once using pd.concat(axis=1) instead. To get a de-fragmented frame, use `newframe = frame.copy()`\n",
      "  df[f\"{col}_lag{lag}\"] = df[col].shift(lag)\n",
      "C:\\Users\\parul.kakade\\AppData\\Local\\Temp\\ipykernel_22212\\4091701828.py:6: PerformanceWarning: DataFrame is highly fragmented.  This is usually the result of calling `frame.insert` many times, which has poor performance.  Consider joining all columns at once using pd.concat(axis=1) instead. To get a de-fragmented frame, use `newframe = frame.copy()`\n",
      "  df[f\"{col}_lag{lag}\"] = df[col].shift(lag)\n",
      "C:\\Users\\parul.kakade\\AppData\\Local\\Temp\\ipykernel_22212\\4091701828.py:6: PerformanceWarning: DataFrame is highly fragmented.  This is usually the result of calling `frame.insert` many times, which has poor performance.  Consider joining all columns at once using pd.concat(axis=1) instead. To get a de-fragmented frame, use `newframe = frame.copy()`\n",
      "  df[f\"{col}_lag{lag}\"] = df[col].shift(lag)\n",
      "C:\\Users\\parul.kakade\\AppData\\Local\\Temp\\ipykernel_22212\\4091701828.py:6: PerformanceWarning: DataFrame is highly fragmented.  This is usually the result of calling `frame.insert` many times, which has poor performance.  Consider joining all columns at once using pd.concat(axis=1) instead. To get a de-fragmented frame, use `newframe = frame.copy()`\n",
      "  df[f\"{col}_lag{lag}\"] = df[col].shift(lag)\n",
      "C:\\Users\\parul.kakade\\AppData\\Local\\Temp\\ipykernel_22212\\4091701828.py:6: PerformanceWarning: DataFrame is highly fragmented.  This is usually the result of calling `frame.insert` many times, which has poor performance.  Consider joining all columns at once using pd.concat(axis=1) instead. To get a de-fragmented frame, use `newframe = frame.copy()`\n",
      "  df[f\"{col}_lag{lag}\"] = df[col].shift(lag)\n",
      "C:\\Users\\parul.kakade\\AppData\\Local\\Temp\\ipykernel_22212\\4091701828.py:6: PerformanceWarning: DataFrame is highly fragmented.  This is usually the result of calling `frame.insert` many times, which has poor performance.  Consider joining all columns at once using pd.concat(axis=1) instead. To get a de-fragmented frame, use `newframe = frame.copy()`\n",
      "  df[f\"{col}_lag{lag}\"] = df[col].shift(lag)\n",
      "C:\\Users\\parul.kakade\\AppData\\Local\\Temp\\ipykernel_22212\\4091701828.py:6: PerformanceWarning: DataFrame is highly fragmented.  This is usually the result of calling `frame.insert` many times, which has poor performance.  Consider joining all columns at once using pd.concat(axis=1) instead. To get a de-fragmented frame, use `newframe = frame.copy()`\n",
      "  df[f\"{col}_lag{lag}\"] = df[col].shift(lag)\n",
      "C:\\Users\\parul.kakade\\AppData\\Local\\Temp\\ipykernel_22212\\4091701828.py:6: PerformanceWarning: DataFrame is highly fragmented.  This is usually the result of calling `frame.insert` many times, which has poor performance.  Consider joining all columns at once using pd.concat(axis=1) instead. To get a de-fragmented frame, use `newframe = frame.copy()`\n",
      "  df[f\"{col}_lag{lag}\"] = df[col].shift(lag)\n",
      "C:\\Users\\parul.kakade\\AppData\\Local\\Temp\\ipykernel_22212\\4091701828.py:6: PerformanceWarning: DataFrame is highly fragmented.  This is usually the result of calling `frame.insert` many times, which has poor performance.  Consider joining all columns at once using pd.concat(axis=1) instead. To get a de-fragmented frame, use `newframe = frame.copy()`\n",
      "  df[f\"{col}_lag{lag}\"] = df[col].shift(lag)\n",
      "C:\\Users\\parul.kakade\\AppData\\Local\\Temp\\ipykernel_22212\\4091701828.py:6: PerformanceWarning: DataFrame is highly fragmented.  This is usually the result of calling `frame.insert` many times, which has poor performance.  Consider joining all columns at once using pd.concat(axis=1) instead. To get a de-fragmented frame, use `newframe = frame.copy()`\n",
      "  df[f\"{col}_lag{lag}\"] = df[col].shift(lag)\n",
      "C:\\Users\\parul.kakade\\AppData\\Local\\Temp\\ipykernel_22212\\4091701828.py:6: PerformanceWarning: DataFrame is highly fragmented.  This is usually the result of calling `frame.insert` many times, which has poor performance.  Consider joining all columns at once using pd.concat(axis=1) instead. To get a de-fragmented frame, use `newframe = frame.copy()`\n",
      "  df[f\"{col}_lag{lag}\"] = df[col].shift(lag)\n",
      "C:\\Users\\parul.kakade\\AppData\\Local\\Temp\\ipykernel_22212\\4091701828.py:6: PerformanceWarning: DataFrame is highly fragmented.  This is usually the result of calling `frame.insert` many times, which has poor performance.  Consider joining all columns at once using pd.concat(axis=1) instead. To get a de-fragmented frame, use `newframe = frame.copy()`\n",
      "  df[f\"{col}_lag{lag}\"] = df[col].shift(lag)\n",
      "C:\\Users\\parul.kakade\\AppData\\Local\\Temp\\ipykernel_22212\\4091701828.py:6: PerformanceWarning: DataFrame is highly fragmented.  This is usually the result of calling `frame.insert` many times, which has poor performance.  Consider joining all columns at once using pd.concat(axis=1) instead. To get a de-fragmented frame, use `newframe = frame.copy()`\n",
      "  df[f\"{col}_lag{lag}\"] = df[col].shift(lag)\n",
      "C:\\Users\\parul.kakade\\AppData\\Local\\Temp\\ipykernel_22212\\4091701828.py:6: PerformanceWarning: DataFrame is highly fragmented.  This is usually the result of calling `frame.insert` many times, which has poor performance.  Consider joining all columns at once using pd.concat(axis=1) instead. To get a de-fragmented frame, use `newframe = frame.copy()`\n",
      "  df[f\"{col}_lag{lag}\"] = df[col].shift(lag)\n",
      "C:\\Users\\parul.kakade\\AppData\\Local\\Temp\\ipykernel_22212\\4091701828.py:6: PerformanceWarning: DataFrame is highly fragmented.  This is usually the result of calling `frame.insert` many times, which has poor performance.  Consider joining all columns at once using pd.concat(axis=1) instead. To get a de-fragmented frame, use `newframe = frame.copy()`\n",
      "  df[f\"{col}_lag{lag}\"] = df[col].shift(lag)\n",
      "C:\\Users\\parul.kakade\\AppData\\Local\\Temp\\ipykernel_22212\\4091701828.py:6: PerformanceWarning: DataFrame is highly fragmented.  This is usually the result of calling `frame.insert` many times, which has poor performance.  Consider joining all columns at once using pd.concat(axis=1) instead. To get a de-fragmented frame, use `newframe = frame.copy()`\n",
      "  df[f\"{col}_lag{lag}\"] = df[col].shift(lag)\n",
      "C:\\Users\\parul.kakade\\AppData\\Local\\Temp\\ipykernel_22212\\4091701828.py:6: PerformanceWarning: DataFrame is highly fragmented.  This is usually the result of calling `frame.insert` many times, which has poor performance.  Consider joining all columns at once using pd.concat(axis=1) instead. To get a de-fragmented frame, use `newframe = frame.copy()`\n",
      "  df[f\"{col}_lag{lag}\"] = df[col].shift(lag)\n",
      "C:\\Users\\parul.kakade\\AppData\\Local\\Temp\\ipykernel_22212\\4091701828.py:6: PerformanceWarning: DataFrame is highly fragmented.  This is usually the result of calling `frame.insert` many times, which has poor performance.  Consider joining all columns at once using pd.concat(axis=1) instead. To get a de-fragmented frame, use `newframe = frame.copy()`\n",
      "  df[f\"{col}_lag{lag}\"] = df[col].shift(lag)\n",
      "C:\\Users\\parul.kakade\\AppData\\Local\\Temp\\ipykernel_22212\\4091701828.py:6: PerformanceWarning: DataFrame is highly fragmented.  This is usually the result of calling `frame.insert` many times, which has poor performance.  Consider joining all columns at once using pd.concat(axis=1) instead. To get a de-fragmented frame, use `newframe = frame.copy()`\n",
      "  df[f\"{col}_lag{lag}\"] = df[col].shift(lag)\n",
      "C:\\Users\\parul.kakade\\AppData\\Local\\Temp\\ipykernel_22212\\4091701828.py:6: PerformanceWarning: DataFrame is highly fragmented.  This is usually the result of calling `frame.insert` many times, which has poor performance.  Consider joining all columns at once using pd.concat(axis=1) instead. To get a de-fragmented frame, use `newframe = frame.copy()`\n",
      "  df[f\"{col}_lag{lag}\"] = df[col].shift(lag)\n",
      "C:\\Users\\parul.kakade\\AppData\\Local\\Temp\\ipykernel_22212\\4091701828.py:6: PerformanceWarning: DataFrame is highly fragmented.  This is usually the result of calling `frame.insert` many times, which has poor performance.  Consider joining all columns at once using pd.concat(axis=1) instead. To get a de-fragmented frame, use `newframe = frame.copy()`\n",
      "  df[f\"{col}_lag{lag}\"] = df[col].shift(lag)\n",
      "C:\\Users\\parul.kakade\\AppData\\Local\\Temp\\ipykernel_22212\\4091701828.py:6: PerformanceWarning: DataFrame is highly fragmented.  This is usually the result of calling `frame.insert` many times, which has poor performance.  Consider joining all columns at once using pd.concat(axis=1) instead. To get a de-fragmented frame, use `newframe = frame.copy()`\n",
      "  df[f\"{col}_lag{lag}\"] = df[col].shift(lag)\n",
      "C:\\Users\\parul.kakade\\AppData\\Local\\Temp\\ipykernel_22212\\4091701828.py:6: PerformanceWarning: DataFrame is highly fragmented.  This is usually the result of calling `frame.insert` many times, which has poor performance.  Consider joining all columns at once using pd.concat(axis=1) instead. To get a de-fragmented frame, use `newframe = frame.copy()`\n",
      "  df[f\"{col}_lag{lag}\"] = df[col].shift(lag)\n",
      "C:\\Users\\parul.kakade\\AppData\\Local\\Temp\\ipykernel_22212\\4091701828.py:6: PerformanceWarning: DataFrame is highly fragmented.  This is usually the result of calling `frame.insert` many times, which has poor performance.  Consider joining all columns at once using pd.concat(axis=1) instead. To get a de-fragmented frame, use `newframe = frame.copy()`\n",
      "  df[f\"{col}_lag{lag}\"] = df[col].shift(lag)\n",
      "C:\\Users\\parul.kakade\\AppData\\Local\\Temp\\ipykernel_22212\\4091701828.py:6: PerformanceWarning: DataFrame is highly fragmented.  This is usually the result of calling `frame.insert` many times, which has poor performance.  Consider joining all columns at once using pd.concat(axis=1) instead. To get a de-fragmented frame, use `newframe = frame.copy()`\n",
      "  df[f\"{col}_lag{lag}\"] = df[col].shift(lag)\n",
      "C:\\Users\\parul.kakade\\AppData\\Local\\Temp\\ipykernel_22212\\4091701828.py:6: PerformanceWarning: DataFrame is highly fragmented.  This is usually the result of calling `frame.insert` many times, which has poor performance.  Consider joining all columns at once using pd.concat(axis=1) instead. To get a de-fragmented frame, use `newframe = frame.copy()`\n",
      "  df[f\"{col}_lag{lag}\"] = df[col].shift(lag)\n",
      "C:\\Users\\parul.kakade\\AppData\\Local\\Temp\\ipykernel_22212\\4091701828.py:6: PerformanceWarning: DataFrame is highly fragmented.  This is usually the result of calling `frame.insert` many times, which has poor performance.  Consider joining all columns at once using pd.concat(axis=1) instead. To get a de-fragmented frame, use `newframe = frame.copy()`\n",
      "  df[f\"{col}_lag{lag}\"] = df[col].shift(lag)\n",
      "C:\\Users\\parul.kakade\\AppData\\Local\\Temp\\ipykernel_22212\\4091701828.py:6: PerformanceWarning: DataFrame is highly fragmented.  This is usually the result of calling `frame.insert` many times, which has poor performance.  Consider joining all columns at once using pd.concat(axis=1) instead. To get a de-fragmented frame, use `newframe = frame.copy()`\n",
      "  df[f\"{col}_lag{lag}\"] = df[col].shift(lag)\n",
      "C:\\Users\\parul.kakade\\AppData\\Local\\Temp\\ipykernel_22212\\4091701828.py:6: PerformanceWarning: DataFrame is highly fragmented.  This is usually the result of calling `frame.insert` many times, which has poor performance.  Consider joining all columns at once using pd.concat(axis=1) instead. To get a de-fragmented frame, use `newframe = frame.copy()`\n",
      "  df[f\"{col}_lag{lag}\"] = df[col].shift(lag)\n",
      "C:\\Users\\parul.kakade\\AppData\\Local\\Temp\\ipykernel_22212\\4091701828.py:6: PerformanceWarning: DataFrame is highly fragmented.  This is usually the result of calling `frame.insert` many times, which has poor performance.  Consider joining all columns at once using pd.concat(axis=1) instead. To get a de-fragmented frame, use `newframe = frame.copy()`\n",
      "  df[f\"{col}_lag{lag}\"] = df[col].shift(lag)\n",
      "C:\\Users\\parul.kakade\\AppData\\Local\\Temp\\ipykernel_22212\\4091701828.py:6: PerformanceWarning: DataFrame is highly fragmented.  This is usually the result of calling `frame.insert` many times, which has poor performance.  Consider joining all columns at once using pd.concat(axis=1) instead. To get a de-fragmented frame, use `newframe = frame.copy()`\n",
      "  df[f\"{col}_lag{lag}\"] = df[col].shift(lag)\n",
      "C:\\Users\\parul.kakade\\AppData\\Local\\Temp\\ipykernel_22212\\4091701828.py:6: PerformanceWarning: DataFrame is highly fragmented.  This is usually the result of calling `frame.insert` many times, which has poor performance.  Consider joining all columns at once using pd.concat(axis=1) instead. To get a de-fragmented frame, use `newframe = frame.copy()`\n",
      "  df[f\"{col}_lag{lag}\"] = df[col].shift(lag)\n",
      "C:\\Users\\parul.kakade\\AppData\\Local\\Temp\\ipykernel_22212\\4091701828.py:6: PerformanceWarning: DataFrame is highly fragmented.  This is usually the result of calling `frame.insert` many times, which has poor performance.  Consider joining all columns at once using pd.concat(axis=1) instead. To get a de-fragmented frame, use `newframe = frame.copy()`\n",
      "  df[f\"{col}_lag{lag}\"] = df[col].shift(lag)\n",
      "C:\\Users\\parul.kakade\\AppData\\Local\\Temp\\ipykernel_22212\\4091701828.py:6: PerformanceWarning: DataFrame is highly fragmented.  This is usually the result of calling `frame.insert` many times, which has poor performance.  Consider joining all columns at once using pd.concat(axis=1) instead. To get a de-fragmented frame, use `newframe = frame.copy()`\n",
      "  df[f\"{col}_lag{lag}\"] = df[col].shift(lag)\n",
      "C:\\Users\\parul.kakade\\AppData\\Local\\Temp\\ipykernel_22212\\4091701828.py:6: PerformanceWarning: DataFrame is highly fragmented.  This is usually the result of calling `frame.insert` many times, which has poor performance.  Consider joining all columns at once using pd.concat(axis=1) instead. To get a de-fragmented frame, use `newframe = frame.copy()`\n",
      "  df[f\"{col}_lag{lag}\"] = df[col].shift(lag)\n",
      "C:\\Users\\parul.kakade\\AppData\\Local\\Temp\\ipykernel_22212\\4091701828.py:6: PerformanceWarning: DataFrame is highly fragmented.  This is usually the result of calling `frame.insert` many times, which has poor performance.  Consider joining all columns at once using pd.concat(axis=1) instead. To get a de-fragmented frame, use `newframe = frame.copy()`\n",
      "  df[f\"{col}_lag{lag}\"] = df[col].shift(lag)\n",
      "C:\\Users\\parul.kakade\\AppData\\Local\\Temp\\ipykernel_22212\\4091701828.py:6: PerformanceWarning: DataFrame is highly fragmented.  This is usually the result of calling `frame.insert` many times, which has poor performance.  Consider joining all columns at once using pd.concat(axis=1) instead. To get a de-fragmented frame, use `newframe = frame.copy()`\n",
      "  df[f\"{col}_lag{lag}\"] = df[col].shift(lag)\n"
     ]
    }
   ],
   "source": [
    "import numpy as np\n",
    "df['target'] = np.where(df['Close'] > df['Open'], 1, 0)\n",
    "lagged_features = [col for col in df.columns if col not in ['Date', 'Open', 'Close', 'target']]\n",
    "for lag in range(1, 4): \n",
    "    for col in lagged_features:\n",
    "        df[f\"{col}_lag{lag}\"] = df[col].shift(lag)\n",
    "df = df.dropna().reset_index(drop=True)\n",
    "feature_cols = ['Open'] + [col for col in df.columns if col.endswith('_lag1')]\n",
    "X = df[feature_cols].select_dtypes(include=[np.number])\n",
    "y = df['target']\n"
   ]
  },
  {
   "cell_type": "code",
   "execution_count": 3,
   "id": "8a71a0af",
   "metadata": {},
   "outputs": [
    {
     "name": "stdout",
     "output_type": "stream",
     "text": [
      "Open           0\n",
      "High_lag1      0\n",
      "Low_lag1       0\n",
      "SMA_14_lag1    0\n",
      "EMA_14_lag1    0\n",
      "dtype: int64\n"
     ]
    }
   ],
   "source": [
    "print(X.isna().sum().sort_values(ascending=False).head())  \n",
    "# X = X.fillna(0) "
   ]
  },
  {
   "cell_type": "code",
   "execution_count": 4,
   "id": "f8f720b8",
   "metadata": {},
   "outputs": [
    {
     "name": "stdout",
     "output_type": "stream",
     "text": [
      "5-Fold CV Accuracy Scores: [0.55555556 0.64197531 0.59259259 0.58024691 0.59259259]\n",
      "Mean CV Accuracy: 0.5926\n"
     ]
    }
   ],
   "source": [
    "from sklearn.model_selection import StratifiedKFold, cross_val_score\n",
    "from sklearn.preprocessing import StandardScaler\n",
    "from sklearn.svm import SVC\n",
    "from sklearn.pipeline import Pipeline\n",
    "pipeline = Pipeline([\n",
    "    ('scaler', StandardScaler()),\n",
    "    ('svm', SVC(kernel='rbf', probability=True)) \n",
    "])\n",
    "\n",
    "n_splits = 5  \n",
    "cv = StratifiedKFold(n_splits=n_splits, shuffle=True, random_state=42)\n",
    "\n",
    "scores = cross_val_score(pipeline, X, y, cv=cv, scoring='accuracy')\n",
    "\n",
    "print(f\"{n_splits}-Fold CV Accuracy Scores: {scores}\")\n",
    "print(f\"Mean CV Accuracy: {scores.mean():.4f}\")\n"
   ]
  },
  {
   "cell_type": "code",
   "execution_count": 5,
   "id": "61453768",
   "metadata": {},
   "outputs": [
    {
     "name": "stdout",
     "output_type": "stream",
     "text": [
      "Best Params: {'svm__C': 1, 'svm__gamma': 'scale', 'svm__kernel': 'poly'}\n",
      "Best CV Accuracy: 0.6024691358024692\n"
     ]
    }
   ],
   "source": [
    "from sklearn.model_selection import GridSearchCV\n",
    "\n",
    "param_grid = {\n",
    "    'svm__C': [0.1, 1, 10],\n",
    "    'svm__gamma': ['scale', 0.01, 0.1, 1],\n",
    "    'svm__kernel': ['rbf', 'poly']\n",
    "}\n",
    "\n",
    "grid = GridSearchCV(pipeline, param_grid, cv=cv, scoring='accuracy', n_jobs=-1)\n",
    "grid.fit(X, y)\n",
    "\n",
    "print(\"Best Params:\", grid.best_params_)\n",
    "print(\"Best CV Accuracy:\", grid.best_score_)\n"
   ]
  },
  {
   "cell_type": "code",
   "execution_count": 4,
   "id": "022a70d6",
   "metadata": {},
   "outputs": [
    {
     "name": "stdout",
     "output_type": "stream",
     "text": [
      "Best Params: {'svc__C': 10, 'svc__degree': 3, 'svc__gamma': 1, 'svc__kernel': 'poly'}\n",
      "Accuracy: 0.5528756957328386\n",
      "Confusion Matrix:\n",
      " [[152 138]\n",
      " [103 146]]\n",
      "              precision    recall  f1-score   support\n",
      "\n",
      "           0       0.60      0.52      0.56       290\n",
      "           1       0.51      0.59      0.55       249\n",
      "\n",
      "    accuracy                           0.55       539\n",
      "   macro avg       0.56      0.56      0.55       539\n",
      "weighted avg       0.56      0.55      0.55       539\n",
      "\n"
     ]
    }
   ],
   "source": [
    "import pandas as pd\n",
    "import numpy as np\n",
    "from sklearn.preprocessing import StandardScaler\n",
    "from sklearn.svm import SVC\n",
    "from sklearn.metrics import classification_report, confusion_matrix, accuracy_score\n",
    "from sklearn.model_selection import StratifiedKFold, cross_val_predict, GridSearchCV\n",
    "from imblearn.over_sampling import SMOTE\n",
    "from imblearn.pipeline import Pipeline\n",
    "df = pd.read_csv(r'C:\\Users\\parul.kakade\\Documents\\NIFTY_Prediction\\6.SVM\\Data\\merged_big.csv')\n",
    "df.drop(columns=['Ticker_y', 'Ticker_x'], inplace=True)\n",
    "df['target'] = (df['Close'] > df['Open']).astype(int)\n",
    "feature_cols = df.columns.difference(['Date','Ticker_x','Ticker_y','Close','target'])\n",
    "lagged_df = df[feature_cols].shift(1)\n",
    "lagged_df['Open'] = df['Open']\n",
    "lagged_df['target'] = df['target']\n",
    "lagged_df.dropna(inplace=True)\n",
    "\n",
    "X = lagged_df.drop(columns=['target']).select_dtypes(include=[np.number])\n",
    "y = lagged_df['target']\n",
    "\n",
    "pipeline = Pipeline([\n",
    "    ('scaler', StandardScaler()),\n",
    "    ('smote', SMOTE(random_state=42)),\n",
    "    ('svc', SVC())\n",
    "])\n",
    "\n",
    "param_grid = {\n",
    "    'svc__C': [0.1, 1, 10],\n",
    "    'svc__gamma': ['scale', 0.01, 0.1, 1],\n",
    "    'svc__kernel': ['linear', 'poly', 'rbf', 'sigmoid'],\n",
    "    'svc__degree': [2, 3, 4]\n",
    "}\n",
    "\n",
    "cv = StratifiedKFold(n_splits=5, shuffle=True, random_state=42)\n",
    "grid = GridSearchCV(pipeline, param_grid, cv=cv, scoring='accuracy', n_jobs=-1)\n",
    "grid.fit(X, y)\n",
    "\n",
    "best_model = grid.best_estimator_\n",
    "y_pred = cross_val_predict(best_model, X, y, cv=cv)\n",
    "\n",
    "results_df = pd.DataFrame({'Actual': y.values, 'Predicted': y_pred}, index=y.index)\n",
    "\n",
    "print(\"Best Params:\", grid.best_params_)\n",
    "print(\"Accuracy:\", accuracy_score(y, y_pred))\n",
    "print(\"Confusion Matrix:\\n\", confusion_matrix(y, y_pred))\n",
    "print(classification_report(y, y_pred, target_names=['0','1']))\n"
   ]
  },
  {
   "cell_type": "code",
   "execution_count": 5,
   "id": "7fa71586",
   "metadata": {},
   "outputs": [
    {
     "data": {
      "application/vnd.microsoft.datawrangler.viewer.v0+json": {
       "columns": [
        {
         "name": "index",
         "rawType": "int64",
         "type": "integer"
        },
        {
         "name": "Actual",
         "rawType": "int64",
         "type": "integer"
        },
        {
         "name": "Predicted",
         "rawType": "int64",
         "type": "integer"
        }
       ],
       "ref": "6d1a211c-2201-445e-81b9-fb6f7374666c",
       "rows": [
        [
         "2",
         "0",
         "0"
        ],
        [
         "3",
         "0",
         "0"
        ],
        [
         "4",
         "0",
         "0"
        ],
        [
         "5",
         "1",
         "1"
        ],
        [
         "6",
         "0",
         "0"
        ],
        [
         "7",
         "0",
         "0"
        ],
        [
         "8",
         "0",
         "0"
        ],
        [
         "9",
         "1",
         "0"
        ],
        [
         "10",
         "0",
         "0"
        ],
        [
         "12",
         "1",
         "0"
        ],
        [
         "13",
         "0",
         "0"
        ],
        [
         "14",
         "0",
         "0"
        ],
        [
         "15",
         "1",
         "0"
        ],
        [
         "16",
         "0",
         "1"
        ],
        [
         "17",
         "0",
         "0"
        ],
        [
         "20",
         "1",
         "1"
        ],
        [
         "21",
         "0",
         "0"
        ],
        [
         "22",
         "0",
         "0"
        ],
        [
         "23",
         "1",
         "1"
        ],
        [
         "24",
         "1",
         "0"
        ],
        [
         "25",
         "0",
         "0"
        ],
        [
         "26",
         "0",
         "0"
        ],
        [
         "27",
         "1",
         "0"
        ],
        [
         "28",
         "1",
         "0"
        ],
        [
         "29",
         "1",
         "1"
        ],
        [
         "30",
         "0",
         "1"
        ],
        [
         "31",
         "1",
         "1"
        ],
        [
         "32",
         "1",
         "1"
        ],
        [
         "33",
         "0",
         "0"
        ],
        [
         "34",
         "0",
         "0"
        ],
        [
         "35",
         "0",
         "1"
        ],
        [
         "37",
         "0",
         "0"
        ],
        [
         "38",
         "0",
         "1"
        ],
        [
         "39",
         "0",
         "1"
        ],
        [
         "40",
         "0",
         "0"
        ],
        [
         "41",
         "0",
         "1"
        ],
        [
         "42",
         "1",
         "1"
        ],
        [
         "43",
         "0",
         "1"
        ],
        [
         "44",
         "1",
         "0"
        ],
        [
         "45",
         "1",
         "1"
        ],
        [
         "48",
         "0",
         "0"
        ],
        [
         "49",
         "0",
         "1"
        ],
        [
         "50",
         "0",
         "1"
        ],
        [
         "51",
         "0",
         "0"
        ],
        [
         "52",
         "0",
         "0"
        ],
        [
         "53",
         "0",
         "0"
        ],
        [
         "54",
         "0",
         "0"
        ],
        [
         "55",
         "0",
         "0"
        ],
        [
         "56",
         "1",
         "0"
        ],
        [
         "57",
         "0",
         "0"
        ]
       ],
       "shape": {
        "columns": 2,
        "rows": 539
       }
      },
      "text/html": [
       "<div>\n",
       "<style scoped>\n",
       "    .dataframe tbody tr th:only-of-type {\n",
       "        vertical-align: middle;\n",
       "    }\n",
       "\n",
       "    .dataframe tbody tr th {\n",
       "        vertical-align: top;\n",
       "    }\n",
       "\n",
       "    .dataframe thead th {\n",
       "        text-align: right;\n",
       "    }\n",
       "</style>\n",
       "<table border=\"1\" class=\"dataframe\">\n",
       "  <thead>\n",
       "    <tr style=\"text-align: right;\">\n",
       "      <th></th>\n",
       "      <th>Actual</th>\n",
       "      <th>Predicted</th>\n",
       "    </tr>\n",
       "  </thead>\n",
       "  <tbody>\n",
       "    <tr>\n",
       "      <th>2</th>\n",
       "      <td>0</td>\n",
       "      <td>0</td>\n",
       "    </tr>\n",
       "    <tr>\n",
       "      <th>3</th>\n",
       "      <td>0</td>\n",
       "      <td>0</td>\n",
       "    </tr>\n",
       "    <tr>\n",
       "      <th>4</th>\n",
       "      <td>0</td>\n",
       "      <td>0</td>\n",
       "    </tr>\n",
       "    <tr>\n",
       "      <th>5</th>\n",
       "      <td>1</td>\n",
       "      <td>1</td>\n",
       "    </tr>\n",
       "    <tr>\n",
       "      <th>6</th>\n",
       "      <td>0</td>\n",
       "      <td>0</td>\n",
       "    </tr>\n",
       "    <tr>\n",
       "      <th>...</th>\n",
       "      <td>...</td>\n",
       "      <td>...</td>\n",
       "    </tr>\n",
       "    <tr>\n",
       "      <th>628</th>\n",
       "      <td>1</td>\n",
       "      <td>0</td>\n",
       "    </tr>\n",
       "    <tr>\n",
       "      <th>629</th>\n",
       "      <td>1</td>\n",
       "      <td>0</td>\n",
       "    </tr>\n",
       "    <tr>\n",
       "      <th>631</th>\n",
       "      <td>0</td>\n",
       "      <td>0</td>\n",
       "    </tr>\n",
       "    <tr>\n",
       "      <th>632</th>\n",
       "      <td>1</td>\n",
       "      <td>1</td>\n",
       "    </tr>\n",
       "    <tr>\n",
       "      <th>633</th>\n",
       "      <td>0</td>\n",
       "      <td>0</td>\n",
       "    </tr>\n",
       "  </tbody>\n",
       "</table>\n",
       "<p>539 rows × 2 columns</p>\n",
       "</div>"
      ],
      "text/plain": [
       "     Actual  Predicted\n",
       "2         0          0\n",
       "3         0          0\n",
       "4         0          0\n",
       "5         1          1\n",
       "6         0          0\n",
       "..      ...        ...\n",
       "628       1          0\n",
       "629       1          0\n",
       "631       0          0\n",
       "632       1          1\n",
       "633       0          0\n",
       "\n",
       "[539 rows x 2 columns]"
      ]
     },
     "execution_count": 5,
     "metadata": {},
     "output_type": "execute_result"
    }
   ],
   "source": [
    "results_df"
   ]
  },
  {
   "cell_type": "code",
   "execution_count": 6,
   "id": "90f7ac8e",
   "metadata": {},
   "outputs": [
    {
     "name": "stdout",
     "output_type": "stream",
     "text": [
      "\n",
      "📊 Distribution of Labels (Up vs Down):\n",
      "           Count  Percentage\n",
      "Direction                   \n",
      "Down         426   60.339943\n",
      "Up           280   39.660057\n"
     ]
    },
    {
     "data": {
      "image/png": "[encoded data removed]",
      "text/plain": [
       "<Figure size 640x480 with 1 Axes>"
      ]
     },
     "metadata": {},
     "output_type": "display_data"
    },
    {
     "name": "stdout",
     "output_type": "stream",
     "text": [
      "\n",
      "📈 Skewness of Numeric Features (sorted):\n",
      "                                        Feature  Skewness\n",
      "0   INTEREST_RATE_FUTURES_Sell_No. of Contracts  6.601794\n",
      "1    INTEREST_RATE_FUTURES_Buy_No. of Contracts  6.599780\n",
      "2     INTEREST_RATE_FUTURES_Buy_Amount in Crore  6.541582\n",
      "3    INTEREST_RATE_FUTURES_Sell_Amount in crore  6.530522\n",
      "4           INDEX_FUTURES_Sell_No. of Contracts  3.248281\n",
      "5           STOCK_FUTURES_Sell_No. of Contracts  2.431922\n",
      "6            STOCK_FUTURES_Buy_No. of Contracts  2.393448\n",
      "7            STOCK_FUTURES_Sell_Amount in crore  2.242418\n",
      "8            INDEX_FUTURES_Buy_No. of Contracts  2.230817\n",
      "9             STOCK_FUTURES_Buy_Amount in Crore  2.214575\n",
      "10           INDEX_FUTURES_Sell_Amount in crore  2.135224\n",
      "11                                   SPX_Volume  1.790130\n",
      "12                              High_pct_change  1.784488\n",
      "13                                     VIX_High  1.688015\n",
      "14            INDEX_FUTURES_Buy_Amount in Crore  1.670317\n",
      "15     INTEREST_RATE_FUTURES_OI_Amount in Crore  1.521782\n",
      "16                                     VIX_Open  1.492201\n",
      "17                                    VIX_Close  1.489652\n",
      "18    INTEREST_RATE_FUTURES_OI_No. of Contracts  1.472994\n",
      "19            STOCK_OPTIONS_OI_No. of Contracts  1.220310\n",
      "20           STOCK_OPTIONS_Buy_No. of Contracts  1.196893\n",
      "21          STOCK_OPTIONS_Sell_No. of Contracts  1.155063\n",
      "22                                      VIX_Low  1.127840\n",
      "23            INDEX_FUTURES_OI_No. of Contracts  1.102101\n",
      "24             STOCK_OPTIONS_OI_Amount in Crore  0.993610\n",
      "25           INDEX_OPTIONS_Buy_No. of Contracts  0.965216\n",
      "26          INDEX_OPTIONS_Sell_No. of Contracts  0.946865\n",
      "27            INDEX_OPTIONS_OI_No. of Contracts  0.905441\n",
      "28            STOCK_OPTIONS_Buy_Amount in Crore  0.892870\n",
      "29           STOCK_OPTIONS_Sell_Amount in crore  0.855722\n",
      "30            INDEX_OPTIONS_Buy_Amount in Crore  0.841295\n",
      "31           INDEX_OPTIONS_Sell_Amount in crore  0.825038\n",
      "32                                   call_ratio  0.803805\n",
      "33                               days_to_expiry  0.697475\n",
      "34             INDEX_OPTIONS_OI_Amount in Crore  0.606517\n",
      "35                                       ATR_14  0.512564\n",
      "36                                          P/B  0.437858\n",
      "37             INDEX_FUTURES_OI_Amount in Crore  0.400778\n",
      "38            STOCK_FUTURES_OI_No. of Contracts  0.316177\n",
      "39                                   Div Yield% -0.018369\n",
      "40                                      SPX_Low -0.046504\n",
      "41             STOCK_FUTURES_OI_Amount in Crore -0.047108\n",
      "42                                    SPX_Close -0.050428\n",
      "43                                     SPX_Open -0.050630\n",
      "44                                     SPX_High -0.055495\n",
      "45                                       RSI_14 -0.066014\n",
      "46                                       SMA_14 -0.186032\n",
      "47                                       EMA_14 -0.190179\n",
      "48                                          Low -0.201730\n",
      "49                                         Open -0.201879\n",
      "50                                         High -0.205233\n",
      "51                                        Close -0.206713\n",
      "52                                          P/E -0.222777\n",
      "53                                      STOCH_D -0.379333\n",
      "54                                      STOCH_K -0.387835\n",
      "55                                    put_ratio -0.568461\n",
      "56                             Close_pct_change -0.899579\n",
      "57                               Low_pct_change -5.487313\n"
     ]
    },
    {
     "data": {
      "image/png": "[encoded data removed]",
      "text/plain": [
       "<Figure size 1000x500 with 1 Axes>"
      ]
     },
     "metadata": {},
     "output_type": "display_data"
    }
   ],
   "source": [
    "import pandas as pd\n",
    "import numpy as np\n",
    "import matplotlib.pyplot as plt\n",
    "\n",
    "def analyze_dataset_distribution_and_skewness(df):\n",
    "    df = df.copy()\n",
    "    df['Date'] = pd.to_datetime(df['Date'])\n",
    "    \n",
    "    df['Direction'] = np.where(df['Close'] > df['Open'], 'Up', 'Down')\n",
    "    \n",
    "    label_counts = df['Direction'].value_counts()\n",
    "    label_perc = df['Direction'].value_counts(normalize=True) * 100\n",
    "    label_summary = pd.DataFrame({'Count': label_counts, 'Percentage': label_perc})\n",
    "    \n",
    "    print(\"\\n📊 Distribution of Labels (Up vs Down):\")\n",
    "    print(label_summary)\n",
    "    \n",
    "    label_counts.plot(kind='bar')\n",
    "    plt.title(\"Distribution of Close Direction (Up/Down)\")\n",
    "    plt.xlabel(\"Direction\")\n",
    "    plt.ylabel(\"Count\")\n",
    "    plt.show()\n",
    "    \n",
    "    numeric_cols = df.select_dtypes(include=[np.number]).columns\n",
    "    skewness = df[numeric_cols].skew().sort_values(ascending=False)\n",
    "    \n",
    "    skew_df = pd.DataFrame({'Feature': skewness.index, 'Skewness': skewness.values})\n",
    "    print(\"\\n📈 Skewness of Numeric Features (sorted):\")\n",
    "    print(skew_df)\n",
    "    top_skewed = skew_df.head(15)\n",
    "    plt.figure(figsize=(10, 5))\n",
    "    plt.bar(top_skewed['Feature'], top_skewed['Skewness'])\n",
    "    plt.title(\"Top 15 Most Skewed Features\")\n",
    "    plt.xticks(rotation=45, ha='right')\n",
    "    plt.ylabel(\"Skewness\")\n",
    "    plt.tight_layout()\n",
    "    plt.show()\n",
    "    \n",
    "    return {'Label_Distribution': label_summary, 'Skewness': skew_df}\n",
    "\n",
    "df = pd.read_csv(r'C:\\Users\\parul.kakade\\Documents\\NIFTY_Prediction\\6.SVM\\Data\\merged_big_1.csv')\n",
    "results = analyze_dataset_distribution_and_skewness(df)\n"
   ]
  },
  {
   "cell_type": "code",
   "execution_count": null,
   "id": "7bd97729",
   "metadata": {},
   "outputs": [],
   "source": []
  }
 ],
 "metadata": {
  "kernelspec": {
   "display_name": "6-svm",
   "language": "python",
   "name": "python3"
  },
  "language_info": {
   "codemirror_mode": {
    "name": "ipython",
    "version": 3
   },
   "file_extension": ".py",
   "mimetype": "text/x-python",
   "name": "python",
   "nbconvert_exporter": "python",
   "pygments_lexer": "ipython3",
   "version": "3.12.9"
  }
 },
 "nbformat": 4,
 "nbformat_minor": 5
}
