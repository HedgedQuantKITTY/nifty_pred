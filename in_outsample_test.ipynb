{
 "cells": [
  {
   "cell_type": "code",
   "execution_count": 47,
   "id": "5c5ccc99",
   "metadata": {},
   "outputs": [
    {
     "data": {
      "application/vnd.microsoft.datawrangler.viewer.v0+json": {
       "columns": [
        {
         "name": "proxy_target",
         "rawType": "int64",
         "type": "integer"
        },
        {
         "name": "count",
         "rawType": "int64",
         "type": "integer"
        }
       ],
       "ref": "8d68f03f-7535-4785-b365-f6c52a67325e",
       "rows": [
        [
         "0",
         "74"
        ],
        [
         "1",
         "35"
        ]
       ],
       "shape": {
        "columns": 1,
        "rows": 2
       }
      },
      "text/plain": [
       "proxy_target\n",
       "0    74\n",
       "1    35\n",
       "Name: count, dtype: int64"
      ]
     },
     "execution_count": 47,
     "metadata": {},
     "output_type": "execute_result"
    }
   ],
   "source": [
    "import pandas as pd\n",
    "df = pd.read_csv(r'C:\\Users\\parul.kakade\\Documents\\NIFTY_Prediction\\6.SVM\\outsample.csv')\n",
    "df['proxy_target'] = (df['Close'] > (1.003*df['Open'])).astype(int)\n",
    "# df['proxy_target'] = (df['Close'] > (df['Open'])).astype(int)\n",
    "df['proxy_target'].value_counts()"
   ]
  },
  {
   "cell_type": "code",
   "execution_count": 48,
   "id": "75998ff1",
   "metadata": {},
   "outputs": [
    {
     "data": {
      "application/vnd.microsoft.datawrangler.viewer.v0+json": {
       "columns": [
        {
         "name": "target",
         "rawType": "int64",
         "type": "integer"
        },
        {
         "name": "count",
         "rawType": "int64",
         "type": "integer"
        }
       ],
       "ref": "921b172b-33b8-4030-b24e-c3c79a68cae5",
       "rows": [
        [
         "0",
         "61"
        ],
        [
         "1",
         "48"
        ]
       ],
       "shape": {
        "columns": 1,
        "rows": 2
       }
      },
      "text/plain": [
       "target\n",
       "0    61\n",
       "1    48\n",
       "Name: count, dtype: int64"
      ]
     },
     "execution_count": 48,
     "metadata": {},
     "output_type": "execute_result"
    }
   ],
   "source": [
    "import pandas as pd\n",
    "df = pd.read_csv(r'C:\\Users\\parul.kakade\\Documents\\NIFTY_Prediction\\6.SVM\\outsample.csv')\n",
    "df['target'] = (df['Close'] > (df['Open'])).astype(int)\n",
    "df['target'].value_counts()"
   ]
  },
  {
   "cell_type": "code",
   "execution_count": 10,
   "id": "06dc09e8",
   "metadata": {},
   "outputs": [
    {
     "name": "stdout",
     "output_type": "stream",
     "text": [
      "Best Params: {'svc__C': 10, 'svc__degree': 2, 'svc__gamma': 1, 'svc__kernel': 'poly'}\n",
      "              precision    recall  f1-score   support\n",
      "\n",
      "           0       0.95      0.87      0.91       333\n",
      "           1       0.70      0.86      0.77       114\n",
      "\n",
      "    accuracy                           0.87       447\n",
      "   macro avg       0.82      0.87      0.84       447\n",
      "weighted avg       0.88      0.87      0.87       447\n",
      "\n",
      "[[290  43]\n",
      " [ 16  98]]\n"
     ]
    }
   ],
   "source": [
    "import pandas as pd\n",
    "import numpy as np\n",
    "from sklearn.preprocessing import StandardScaler\n",
    "from sklearn.decomposition import PCA\n",
    "from sklearn.svm import SVC\n",
    "from sklearn.metrics import classification_report, confusion_matrix\n",
    "from sklearn.model_selection import StratifiedKFold, GridSearchCV\n",
    "from imblearn.over_sampling import SMOTE\n",
    "from imblearn.pipeline import Pipeline\n",
    "df = pd.read_csv(r'C:\\Users\\parul.kakade\\Documents\\NIFTY_Prediction\\6.SVM\\insample.csv')\n",
    "df.drop(columns=['Ticker_x', 'Ticker_y'], inplace=True)\n",
    "df['target'] = (df['Close'] > (1.003*df['Open'])).astype(int) #add level diff 0.3 pct of nifty\n",
    "feature_cols = df.columns.difference(['Date','Close','target'])\n",
    "lagged_df = df[feature_cols].shift(1)\n",
    "lagged_df['Open'] = df['Open']\n",
    "lagged_df['target'] = df['target']\n",
    "lagged_df['Date'] = df['Date']\n",
    "lagged_df.dropna(inplace=True)\n",
    "\n",
    "X = lagged_df.drop(columns=['target']).select_dtypes(include=[np.number])\n",
    "y = lagged_df['target']\n",
    "\n",
    "pipeline = Pipeline([\n",
    "    ('scaler', StandardScaler()),\n",
    "    ('pca', PCA(n_components=0.95)),\n",
    "    ('smote', SMOTE(random_state=42)),\n",
    "    ('svc', SVC())\n",
    "])\n",
    "\n",
    "param_grid = {\n",
    "    'svc__C': [0.1, 1, 10],\n",
    "    'svc__gamma': ['scale', 0.01, 0.1, 1],\n",
    "    # 'svc__kernel': ['rbf']\n",
    "    'svc__kernel': ['linear', 'poly', 'rbf', 'sigmoid'],\n",
    "    'svc__degree': [2, 3, 4]\n",
    "}\n",
    "\n",
    "cv = StratifiedKFold(n_splits=5, shuffle=True, random_state=42)\n",
    "grid = GridSearchCV(pipeline, param_grid, cv=cv, scoring='f1', n_jobs=-1)\n",
    "grid.fit(X, y)\n",
    "\n",
    "best_model = grid.best_estimator_\n",
    "y_pred = best_model.predict(X)\n",
    "\n",
    "print(\"Best Params:\", grid.best_params_)\n",
    "print(classification_report(y, y_pred, target_names=['0','1']))\n",
    "print(confusion_matrix(y, y_pred))\n",
    "\n",
    "results_df = pd.DataFrame({'Date': lagged_df['Date'].values,'Actual': y.values, 'Predicted': y_pred}, index=y.index)"
   ]
  },
  {
   "cell_type": "code",
   "execution_count": 11,
   "id": "3c0a4329",
   "metadata": {},
   "outputs": [
    {
     "name": "stdout",
     "output_type": "stream",
     "text": [
      "Model saved successfully!\n"
     ]
    }
   ],
   "source": [
    "import joblib\n",
    "\n",
    "joblib.dump(best_model, r\"C:\\Users\\parul.kakade\\Documents\\NIFTY_Prediction\\6.SVM\\model_svm_insample.pkl\")\n",
    "print(\"Model saved successfully!\")"
   ]
  },
  {
   "cell_type": "code",
   "execution_count": null,
   "id": "d49c9bd2",
   "metadata": {},
   "outputs": [
    {
     "name": "stdout",
     "output_type": "stream",
     "text": [
      "Model loaded successfully!\n",
      "        Date  Predicted\n",
      "2 2025-01-03          0\n",
      "3 2025-01-06          1\n",
      "4 2025-01-07          0\n",
      "5 2025-01-08          1\n",
      "6 2025-01-09          0\n",
      "✅ Predictions generated for 2025-01-03 00:00:00 to 2025-05-30 00:00:00\n"
     ]
    }
   ],
   "source": [
    "import joblib\n",
    "import pandas as pd\n",
    "import numpy as np\n",
    "\n",
    "model = joblib.load(r\"C:\\Users\\parul.kakade\\Documents\\NIFTY_Prediction\\6.SVM\\model_svm_insample.pkl\")\n",
    "print(\"Model loaded successfully!\")\n",
    "\n",
    "new_df = pd.read_csv(r'C:\\Users\\parul.kakade\\Documents\\NIFTY_Prediction\\6.SVM\\outsample.csv')\n",
    "# print(\"First 5 rows:\\n\", new_df.head())\n",
    "new_df['Date'] = pd.to_datetime(new_df['Date'])\n",
    "\n",
    "\n",
    "drop_cols = [c for c in ['Date','Close','target'] if c in new_df.columns]\n",
    "feature_cols = new_df.columns.difference(drop_cols)\n",
    "\n",
    "lagged_live = new_df[feature_cols].shift(1)\n",
    "lagged_live['Open'] = new_df['Open']\n",
    "lagged_live.dropna(inplace=True)\n",
    "\n",
    "X_live = lagged_live.select_dtypes(include=[np.number])\n",
    "\n",
    "y_pred_live = model.predict(X_live)\n",
    "\n",
    "results_live = pd.DataFrame({\n",
    "    'Date': new_df.loc[lagged_live.index, 'Date'].values,\n",
    "    'Predicted': y_pred_live\n",
    "}, index=lagged_live.index)\n",
    "\n",
    "print(results_live.head())\n",
    "print(f\"Predictions generated for {results_live['Date'].min()} to {results_live['Date'].max()}\")\n"
   ]
  },
  {
   "cell_type": "code",
   "execution_count": 19,
   "id": "08d1dd43",
   "metadata": {},
   "outputs": [],
   "source": [
    "results_live.to_csv(r'outsample_pred.csv', index=False)"
   ]
  },
  {
   "cell_type": "code",
   "execution_count": 27,
   "id": "1e1f2204",
   "metadata": {},
   "outputs": [
    {
     "data": {
      "application/vnd.microsoft.datawrangler.viewer.v0+json": {
       "columns": [
        {
         "name": "Predicted",
         "rawType": "int64",
         "type": "integer"
        },
        {
         "name": "count",
         "rawType": "int64",
         "type": "integer"
        }
       ],
       "ref": "b99535be-6731-4842-8692-642a3cfff66e",
       "rows": [
        [
         "0",
         "61"
        ],
        [
         "1",
         "29"
        ]
       ],
       "shape": {
        "columns": 1,
        "rows": 2
       }
      },
      "text/plain": [
       "Predicted\n",
       "0    61\n",
       "1    29\n",
       "Name: count, dtype: int64"
      ]
     },
     "execution_count": 27,
     "metadata": {},
     "output_type": "execute_result"
    }
   ],
   "source": [
    "results_live['Predicted'].value_counts()"
   ]
  },
  {
   "cell_type": "code",
   "execution_count": null,
   "id": "ef6b49e9",
   "metadata": {},
   "outputs": [],
   "source": [
    "results_live"
   ]
  },
  {
   "cell_type": "code",
   "execution_count": 44,
   "id": "cf7795c9",
   "metadata": {},
   "outputs": [
    {
     "name": "stdout",
     "output_type": "stream",
     "text": [
      "Accuracy: 0.5333333333333333\n",
      "Confusion Matrix:\n",
      " [[39 20]\n",
      " [22  9]]\n",
      "\n",
      "Classification Report:\n",
      "               precision    recall  f1-score   support\n",
      "\n",
      "           0       0.64      0.66      0.65        59\n",
      "           1       0.31      0.29      0.30        31\n",
      "\n",
      "    accuracy                           0.53        90\n",
      "   macro avg       0.47      0.48      0.47        90\n",
      "weighted avg       0.53      0.53      0.53        90\n",
      "\n"
     ]
    }
   ],
   "source": [
    "from sklearn.metrics import accuracy_score, confusion_matrix, classification_report\n",
    "\n",
    "new_df['proxy_target'] = (new_df['Close'] > (1.003*new_df['Open'])).astype(int)\n",
    "# new_df['proxy_target'] = (new_df['Close'] > (new_df['Open'])).astype(int)\n",
    "y_true_live = new_df.loc[lagged_live.index, 'proxy_target']\n",
    "\n",
    "print(\"Accuracy:\", accuracy_score(y_true_live, y_pred_live))\n",
    "print(\"Confusion Matrix:\\n\", confusion_matrix(y_true_live, y_pred_live))\n",
    "print(\"\\nClassification Report:\\n\", classification_report(y_true_live, y_pred_live))\n"
   ]
  },
  {
   "cell_type": "code",
   "execution_count": 43,
   "id": "d97ca5a5",
   "metadata": {},
   "outputs": [
    {
     "data": {
      "application/vnd.microsoft.datawrangler.viewer.v0+json": {
       "columns": [
        {
         "name": "index",
         "rawType": "int64",
         "type": "integer"
        },
        {
         "name": "proxy_target",
         "rawType": "int64",
         "type": "integer"
        },
        {
         "name": "Date",
         "rawType": "datetime64[ns]",
         "type": "datetime"
        },
        {
         "name": "Predicted",
         "rawType": "float64",
         "type": "float"
        }
       ],
       "ref": "8e1b0a6d-aee3-4bff-ad7e-711b78e4852f",
       "rows": [
        [
         "0",
         "1",
         null,
         null
        ],
        [
         "1",
         "1",
         null,
         null
        ],
        [
         "2",
         "0",
         "2025-01-03 00:00:00",
         "0.0"
        ],
        [
         "3",
         "0",
         "2025-01-06 00:00:00",
         "1.0"
        ],
        [
         "4",
         "1",
         "2025-01-07 00:00:00",
         "0.0"
        ],
        [
         "5",
         "0",
         "2025-01-08 00:00:00",
         "1.0"
        ],
        [
         "6",
         "0",
         "2025-01-09 00:00:00",
         "0.0"
        ],
        [
         "7",
         "0",
         null,
         null
        ],
        [
         "8",
         "0",
         "2025-01-13 00:00:00",
         "0.0"
        ],
        [
         "9",
         "1",
         "2025-01-14 00:00:00",
         "0.0"
        ],
        [
         "10",
         "0",
         "2025-01-15 00:00:00",
         "0.0"
        ],
        [
         "11",
         "0",
         "2025-01-16 00:00:00",
         "0.0"
        ],
        [
         "12",
         "0",
         "2025-01-17 00:00:00",
         "0.0"
        ],
        [
         "13",
         "1",
         "2025-01-20 00:00:00",
         "0.0"
        ],
        [
         "14",
         "0",
         null,
         null
        ],
        [
         "15",
         "1",
         "2025-01-22 00:00:00",
         "0.0"
        ],
        [
         "16",
         "1",
         "2025-01-23 00:00:00",
         "0.0"
        ],
        [
         "17",
         "0",
         "2025-01-24 00:00:00",
         "0.0"
        ],
        [
         "18",
         "0",
         "2025-01-27 00:00:00",
         "0.0"
        ],
        [
         "19",
         "0",
         "2025-01-28 00:00:00",
         "0.0"
        ],
        [
         "20",
         "1",
         "2025-01-29 00:00:00",
         "0.0"
        ],
        [
         "21",
         "1",
         "2025-01-30 00:00:00",
         "1.0"
        ],
        [
         "22",
         "1",
         "2025-01-31 00:00:00",
         "0.0"
        ],
        [
         "23",
         "0",
         "2025-02-01 00:00:00",
         "1.0"
        ],
        [
         "24",
         "1",
         null,
         null
        ],
        [
         "25",
         "1",
         "2025-02-04 00:00:00",
         "1.0"
        ],
        [
         "26",
         "0",
         "2025-02-05 00:00:00",
         "0.0"
        ],
        [
         "27",
         "0",
         "2025-02-06 00:00:00",
         "0.0"
        ],
        [
         "28",
         "0",
         "2025-02-07 00:00:00",
         "0.0"
        ],
        [
         "29",
         "0",
         "2025-02-10 00:00:00",
         "0.0"
        ],
        [
         "30",
         "0",
         "2025-02-11 00:00:00",
         "0.0"
        ],
        [
         "31",
         "0",
         "2025-02-12 00:00:00",
         "0.0"
        ],
        [
         "32",
         "0",
         "2025-02-13 00:00:00",
         "0.0"
        ],
        [
         "33",
         "0",
         "2025-02-14 00:00:00",
         "0.0"
        ],
        [
         "34",
         "1",
         "2025-02-17 00:00:00",
         "0.0"
        ],
        [
         "35",
         "0",
         null,
         null
        ],
        [
         "36",
         "1",
         "2025-02-19 00:00:00",
         "0.0"
        ],
        [
         "37",
         "1",
         "2025-02-20 00:00:00",
         "0.0"
        ],
        [
         "38",
         "0",
         "2025-02-21 00:00:00",
         "0.0"
        ],
        [
         "39",
         "0",
         "2025-02-24 00:00:00",
         "0.0"
        ],
        [
         "40",
         "1",
         "2025-02-25 00:00:00",
         "0.0"
        ],
        [
         "41",
         "0",
         null,
         null
        ],
        [
         "42",
         "0",
         null,
         null
        ],
        [
         "43",
         "0",
         "2025-02-28 00:00:00",
         "0.0"
        ],
        [
         "44",
         "0",
         "2025-03-03 00:00:00",
         "0.0"
        ],
        [
         "45",
         "1",
         "2025-03-04 00:00:00",
         "0.0"
        ],
        [
         "46",
         "1",
         "2025-03-05 00:00:00",
         "1.0"
        ],
        [
         "47",
         "1",
         "2025-03-06 00:00:00",
         "0.0"
        ],
        [
         "48",
         "1",
         "2025-03-07 00:00:00",
         "1.0"
        ],
        [
         "49",
         "0",
         "2025-03-10 00:00:00",
         "1.0"
        ]
       ],
       "shape": {
        "columns": 3,
        "rows": 109
       }
      },
      "text/html": [
       "<div>\n",
       "<style scoped>\n",
       "    .dataframe tbody tr th:only-of-type {\n",
       "        vertical-align: middle;\n",
       "    }\n",
       "\n",
       "    .dataframe tbody tr th {\n",
       "        vertical-align: top;\n",
       "    }\n",
       "\n",
       "    .dataframe thead th {\n",
       "        text-align: right;\n",
       "    }\n",
       "</style>\n",
       "<table border=\"1\" class=\"dataframe\">\n",
       "  <thead>\n",
       "    <tr style=\"text-align: right;\">\n",
       "      <th></th>\n",
       "      <th>proxy_target</th>\n",
       "      <th>Date</th>\n",
       "      <th>Predicted</th>\n",
       "    </tr>\n",
       "  </thead>\n",
       "  <tbody>\n",
       "    <tr>\n",
       "      <th>0</th>\n",
       "      <td>1</td>\n",
       "      <td>NaT</td>\n",
       "      <td>NaN</td>\n",
       "    </tr>\n",
       "    <tr>\n",
       "      <th>1</th>\n",
       "      <td>1</td>\n",
       "      <td>NaT</td>\n",
       "      <td>NaN</td>\n",
       "    </tr>\n",
       "    <tr>\n",
       "      <th>2</th>\n",
       "      <td>0</td>\n",
       "      <td>2025-01-03</td>\n",
       "      <td>0.0</td>\n",
       "    </tr>\n",
       "    <tr>\n",
       "      <th>3</th>\n",
       "      <td>0</td>\n",
       "      <td>2025-01-06</td>\n",
       "      <td>1.0</td>\n",
       "    </tr>\n",
       "    <tr>\n",
       "      <th>4</th>\n",
       "      <td>1</td>\n",
       "      <td>2025-01-07</td>\n",
       "      <td>0.0</td>\n",
       "    </tr>\n",
       "    <tr>\n",
       "      <th>...</th>\n",
       "      <td>...</td>\n",
       "      <td>...</td>\n",
       "      <td>...</td>\n",
       "    </tr>\n",
       "    <tr>\n",
       "      <th>104</th>\n",
       "      <td>1</td>\n",
       "      <td>2025-05-26</td>\n",
       "      <td>0.0</td>\n",
       "    </tr>\n",
       "    <tr>\n",
       "      <th>105</th>\n",
       "      <td>0</td>\n",
       "      <td>NaT</td>\n",
       "      <td>NaN</td>\n",
       "    </tr>\n",
       "    <tr>\n",
       "      <th>106</th>\n",
       "      <td>0</td>\n",
       "      <td>2025-05-28</td>\n",
       "      <td>0.0</td>\n",
       "    </tr>\n",
       "    <tr>\n",
       "      <th>107</th>\n",
       "      <td>1</td>\n",
       "      <td>2025-05-29</td>\n",
       "      <td>1.0</td>\n",
       "    </tr>\n",
       "    <tr>\n",
       "      <th>108</th>\n",
       "      <td>0</td>\n",
       "      <td>2025-05-30</td>\n",
       "      <td>0.0</td>\n",
       "    </tr>\n",
       "  </tbody>\n",
       "</table>\n",
       "<p>109 rows × 3 columns</p>\n",
       "</div>"
      ],
      "text/plain": [
       "     proxy_target       Date  Predicted\n",
       "0               1        NaT        NaN\n",
       "1               1        NaT        NaN\n",
       "2               0 2025-01-03        0.0\n",
       "3               0 2025-01-06        1.0\n",
       "4               1 2025-01-07        0.0\n",
       "..            ...        ...        ...\n",
       "104             1 2025-05-26        0.0\n",
       "105             0        NaT        NaN\n",
       "106             0 2025-05-28        0.0\n",
       "107             1 2025-05-29        1.0\n",
       "108             0 2025-05-30        0.0\n",
       "\n",
       "[109 rows x 3 columns]"
      ]
     },
     "execution_count": 43,
     "metadata": {},
     "output_type": "execute_result"
    }
   ],
   "source": [
    "df = pd.concat([new_df['proxy_target'],results_live], join='outer',axis=1)\n",
    "\n",
    "df"
   ]
  },
  {
   "cell_type": "code",
   "execution_count": null,
   "id": "8774f853",
   "metadata": {},
   "outputs": [],
   "source": []
  }
 ],
 "metadata": {
  "kernelspec": {
   "display_name": "6-svm",
   "language": "python",
   "name": "python3"
  },
  "language_info": {
   "codemirror_mode": {
    "name": "ipython",
    "version": 3
   },
   "file_extension": ".py",
   "mimetype": "text/x-python",
   "name": "python",
   "nbconvert_exporter": "python",
   "pygments_lexer": "ipython3",
   "version": "3.12.9"
  }
 },
 "nbformat": 4,
 "nbformat_minor": 5
}
