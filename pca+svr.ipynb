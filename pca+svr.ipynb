{
 "cells": [
  {
   "cell_type": "code",
   "execution_count": 17,
   "id": "d3bb009b",
   "metadata": {},
   "outputs": [
    {
     "data": {
      "text/plain": [
       "Index(['Date', 'Open', 'High', 'Low', 'Close', 'SMA_14', 'EMA_14', 'RSI_14',\n",
       "       'ATR_14', 'STOCH_K', 'STOCH_D', 'High_pct_change', 'Low_pct_change',\n",
       "       'Close_pct_change', 'INDEX_FUTURES_Buy_Amount in Crore',\n",
       "       'INDEX_FUTURES_Buy_No. of Contracts',\n",
       "       'INDEX_FUTURES_OI_Amount in Crore', 'INDEX_FUTURES_OI_No. of Contracts',\n",
       "       'INDEX_FUTURES_Sell_Amount in crore',\n",
       "       'INDEX_FUTURES_Sell_No. of Contracts',\n",
       "       'INDEX_OPTIONS_Buy_Amount in Crore',\n",
       "       'INDEX_OPTIONS_Buy_No. of Contracts',\n",
       "       'INDEX_OPTIONS_OI_Amount in Crore', 'INDEX_OPTIONS_OI_No. of Contracts',\n",
       "       'INDEX_OPTIONS_Sell_Amount in crore',\n",
       "       'INDEX_OPTIONS_Sell_No. of Contracts',\n",
       "       'INTEREST_RATE_FUTURES_Buy_Amount in Crore',\n",
       "       'INTEREST_RATE_FUTURES_Buy_No. of Contracts',\n",
       "       'INTEREST_RATE_FUTURES_OI_Amount in Crore',\n",
       "       'INTEREST_RATE_FUTURES_OI_No. of Contracts',\n",
       "       'INTEREST_RATE_FUTURES_Sell_Amount in crore',\n",
       "       'INTEREST_RATE_FUTURES_Sell_No. of Contracts',\n",
       "       'STOCK_FUTURES_Buy_Amount in Crore',\n",
       "       'STOCK_FUTURES_Buy_No. of Contracts',\n",
       "       'STOCK_FUTURES_OI_Amount in Crore', 'STOCK_FUTURES_OI_No. of Contracts',\n",
       "       'STOCK_FUTURES_Sell_Amount in crore',\n",
       "       'STOCK_FUTURES_Sell_No. of Contracts',\n",
       "       'STOCK_OPTIONS_Buy_Amount in Crore',\n",
       "       'STOCK_OPTIONS_Buy_No. of Contracts',\n",
       "       'STOCK_OPTIONS_OI_Amount in Crore', 'STOCK_OPTIONS_OI_No. of Contracts',\n",
       "       'STOCK_OPTIONS_Sell_Amount in crore',\n",
       "       'STOCK_OPTIONS_Sell_No. of Contracts', 'P/E', 'P/B', 'Div Yield%',\n",
       "       'SPX_Close', 'SPX_High', 'SPX_Low', 'SPX_Open', 'SPX_Volume',\n",
       "       'VIX_Open', 'VIX_High', 'VIX_Low', 'VIX_Close', 'expiry', 'put_ratio',\n",
       "       'call_ratio', 'days_to_expiry'],\n",
       "      dtype='object')"
      ]
     },
     "execution_count": 17,
     "metadata": {},
     "output_type": "execute_result"
    }
   ],
   "source": [
    "import pandas as pd\n",
    "df = pd.read_csv(r'C:\\Users\\parul.kakade\\Documents\\NIFTY_Prediction\\6.SVM\\Data\\merged_big.csv')\n",
    "df.drop(columns=['Ticker_x', 'Ticker_y'], inplace=True)\n",
    "df.columns"
   ]
  },
  {
   "cell_type": "code",
   "execution_count": 11,
   "id": "405fef4f",
   "metadata": {},
   "outputs": [
    {
     "name": "stdout",
     "output_type": "stream",
     "text": [
      "Classification Report:\n",
      "              precision    recall  f1-score   support\n",
      "\n",
      "        Down       0.59      0.62      0.61        58\n",
      "          Up       0.53      0.50      0.52        50\n",
      "\n",
      "    accuracy                           0.56       108\n",
      "   macro avg       0.56      0.56      0.56       108\n",
      "weighted avg       0.56      0.56      0.56       108\n",
      "\n",
      "Confusion Matrix:\n",
      "[[36 22]\n",
      " [25 25]]\n",
      "     Actual  Predicted\n",
      "623       0          0\n",
      "135       1          0\n",
      "251       1          1\n",
      "111       1          0\n",
      "144       0          1\n",
      "..      ...        ...\n",
      "632       1          0\n",
      "27        1          0\n",
      "186       0          0\n",
      "138       1          0\n",
      "381       0          0\n",
      "\n",
      "[108 rows x 2 columns]\n"
     ]
    }
   ],
   "source": [
    "import pandas as pd\n",
    "import numpy as np\n",
    "from sklearn.preprocessing import StandardScaler\n",
    "from sklearn.decomposition import PCA\n",
    "from sklearn.svm import SVC\n",
    "from sklearn.metrics import classification_report, confusion_matrix\n",
    "from sklearn.model_selection import train_test_split\n",
    "from imblearn.over_sampling import SMOTE\n",
    "\n",
    "df['target'] = (df['Close'] > df['Open']).astype(int)\n",
    "\n",
    "feature_cols = df.columns.difference(['Date','Ticker_x','Ticker_y','Close','target'])\n",
    "lagged_df = df[feature_cols].shift(1)\n",
    "lagged_df['Open'] = df['Open']  \n",
    "lagged_df['target'] = df['target']\n",
    "lagged_df.dropna(inplace=True)\n",
    "\n",
    "X = lagged_df.drop(columns=['target'])\n",
    "X = X.select_dtypes(include=[np.number])\n",
    "y = lagged_df['target']\n",
    "\n",
    "X_train, X_test, y_train, y_test = train_test_split(\n",
    "    X, y, test_size=0.2, shuffle=True, stratify=y, random_state=42\n",
    ")\n",
    "\n",
    "scaler = StandardScaler()\n",
    "X_train_scaled = scaler.fit_transform(X_train)\n",
    "X_test_scaled = scaler.transform(X_test)\n",
    "\n",
    "pca = PCA(n_components=0.95)\n",
    "X_train_pca = pca.fit_transform(X_train_scaled)\n",
    "X_test_pca = pca.transform(X_test_scaled)\n",
    "\n",
    "sm = SMOTE(random_state=42)\n",
    "X_train_bal, y_train_bal = sm.fit_resample(X_train_pca, y_train)\n",
    "\n",
    "model = SVC(kernel='rbf', C=1.0, gamma='scale')\n",
    "model.fit(X_train_bal, y_train_bal)\n",
    "y_pred = model.predict(X_test_pca)\n",
    "\n",
    "print(\"Classification Report:\")\n",
    "print(classification_report(y_test, y_pred, target_names=['Down','Up']))\n",
    "\n",
    "print(\"Confusion Matrix:\")\n",
    "print(confusion_matrix(y_test, y_pred))\n",
    "\n",
    "results_df = pd.DataFrame({\n",
    "    'Actual': y_test.values,\n",
    "    'Predicted': y_pred\n",
    "}, index=y_test.index)\n",
    "print(results_df)  "
   ]
  },
  {
   "cell_type": "code",
   "execution_count": 12,
   "id": "fc6f709a",
   "metadata": {},
   "outputs": [
    {
     "data": {
      "application/vnd.microsoft.datawrangler.viewer.v0+json": {
       "columns": [
        {
         "name": "index",
         "rawType": "int64",
         "type": "integer"
        },
        {
         "name": "Actual",
         "rawType": "int64",
         "type": "integer"
        },
        {
         "name": "Predicted",
         "rawType": "int64",
         "type": "integer"
        }
       ],
       "ref": "7e3e5aa1-440d-4ecf-9cf3-31f19ce9a855",
       "rows": [
        [
         "623",
         "0",
         "0"
        ],
        [
         "135",
         "1",
         "0"
        ],
        [
         "251",
         "1",
         "1"
        ],
        [
         "111",
         "1",
         "0"
        ],
        [
         "144",
         "0",
         "1"
        ],
        [
         "330",
         "1",
         "1"
        ],
        [
         "573",
         "1",
         "1"
        ],
        [
         "586",
         "0",
         "0"
        ],
        [
         "170",
         "0",
         "0"
        ],
        [
         "87",
         "1",
         "0"
        ],
        [
         "267",
         "0",
         "1"
        ],
        [
         "429",
         "0",
         "0"
        ],
        [
         "455",
         "1",
         "1"
        ],
        [
         "302",
         "0",
         "1"
        ],
        [
         "107",
         "0",
         "0"
        ],
        [
         "207",
         "0",
         "1"
        ],
        [
         "546",
         "1",
         "0"
        ],
        [
         "317",
         "1",
         "1"
        ],
        [
         "358",
         "1",
         "0"
        ],
        [
         "212",
         "0",
         "1"
        ],
        [
         "459",
         "0",
         "1"
        ],
        [
         "290",
         "0",
         "0"
        ],
        [
         "289",
         "1",
         "1"
        ],
        [
         "514",
         "0",
         "0"
        ],
        [
         "102",
         "1",
         "1"
        ],
        [
         "361",
         "1",
         "1"
        ],
        [
         "91",
         "1",
         "0"
        ],
        [
         "434",
         "1",
         "0"
        ],
        [
         "362",
         "1",
         "1"
        ],
        [
         "60",
         "1",
         "1"
        ],
        [
         "483",
         "1",
         "0"
        ],
        [
         "423",
         "0",
         "1"
        ],
        [
         "388",
         "0",
         "1"
        ],
        [
         "168",
         "1",
         "0"
        ],
        [
         "141",
         "1",
         "0"
        ],
        [
         "296",
         "1",
         "0"
        ],
        [
         "100",
         "0",
         "0"
        ],
        [
         "344",
         "0",
         "1"
        ],
        [
         "221",
         "0",
         "1"
        ],
        [
         "104",
         "0",
         "1"
        ],
        [
         "371",
         "0",
         "0"
        ],
        [
         "184",
         "0",
         "0"
        ],
        [
         "97",
         "0",
         "0"
        ],
        [
         "98",
         "1",
         "0"
        ],
        [
         "633",
         "0",
         "0"
        ],
        [
         "71",
         "1",
         "0"
        ],
        [
         "272",
         "1",
         "1"
        ],
        [
         "38",
         "0",
         "0"
        ],
        [
         "537",
         "0",
         "0"
        ],
        [
         "256",
         "1",
         "1"
        ]
       ],
       "shape": {
        "columns": 2,
        "rows": 108
       }
      },
      "text/html": [
       "<div>\n",
       "<style scoped>\n",
       "    .dataframe tbody tr th:only-of-type {\n",
       "        vertical-align: middle;\n",
       "    }\n",
       "\n",
       "    .dataframe tbody tr th {\n",
       "        vertical-align: top;\n",
       "    }\n",
       "\n",
       "    .dataframe thead th {\n",
       "        text-align: right;\n",
       "    }\n",
       "</style>\n",
       "<table border=\"1\" class=\"dataframe\">\n",
       "  <thead>\n",
       "    <tr style=\"text-align: right;\">\n",
       "      <th></th>\n",
       "      <th>Actual</th>\n",
       "      <th>Predicted</th>\n",
       "    </tr>\n",
       "  </thead>\n",
       "  <tbody>\n",
       "    <tr>\n",
       "      <th>623</th>\n",
       "      <td>0</td>\n",
       "      <td>0</td>\n",
       "    </tr>\n",
       "    <tr>\n",
       "      <th>135</th>\n",
       "      <td>1</td>\n",
       "      <td>0</td>\n",
       "    </tr>\n",
       "    <tr>\n",
       "      <th>251</th>\n",
       "      <td>1</td>\n",
       "      <td>1</td>\n",
       "    </tr>\n",
       "    <tr>\n",
       "      <th>111</th>\n",
       "      <td>1</td>\n",
       "      <td>0</td>\n",
       "    </tr>\n",
       "    <tr>\n",
       "      <th>144</th>\n",
       "      <td>0</td>\n",
       "      <td>1</td>\n",
       "    </tr>\n",
       "    <tr>\n",
       "      <th>...</th>\n",
       "      <td>...</td>\n",
       "      <td>...</td>\n",
       "    </tr>\n",
       "    <tr>\n",
       "      <th>632</th>\n",
       "      <td>1</td>\n",
       "      <td>0</td>\n",
       "    </tr>\n",
       "    <tr>\n",
       "      <th>27</th>\n",
       "      <td>1</td>\n",
       "      <td>0</td>\n",
       "    </tr>\n",
       "    <tr>\n",
       "      <th>186</th>\n",
       "      <td>0</td>\n",
       "      <td>0</td>\n",
       "    </tr>\n",
       "    <tr>\n",
       "      <th>138</th>\n",
       "      <td>1</td>\n",
       "      <td>0</td>\n",
       "    </tr>\n",
       "    <tr>\n",
       "      <th>381</th>\n",
       "      <td>0</td>\n",
       "      <td>0</td>\n",
       "    </tr>\n",
       "  </tbody>\n",
       "</table>\n",
       "<p>108 rows × 2 columns</p>\n",
       "</div>"
      ],
      "text/plain": [
       "     Actual  Predicted\n",
       "623       0          0\n",
       "135       1          0\n",
       "251       1          1\n",
       "111       1          0\n",
       "144       0          1\n",
       "..      ...        ...\n",
       "632       1          0\n",
       "27        1          0\n",
       "186       0          0\n",
       "138       1          0\n",
       "381       0          0\n",
       "\n",
       "[108 rows x 2 columns]"
      ]
     },
     "execution_count": 12,
     "metadata": {},
     "output_type": "execute_result"
    }
   ],
   "source": [
    "results_df"
   ]
  },
  {
   "cell_type": "markdown",
   "id": "964684f5",
   "metadata": {},
   "source": [
    "n-fold + PCA + SVM"
   ]
  },
  {
   "cell_type": "code",
   "execution_count": 21,
   "id": "9a2f3af6",
   "metadata": {},
   "outputs": [
    {
     "name": "stdout",
     "output_type": "stream",
     "text": [
      "Best Params: {'svc__C': 10, 'svc__degree': 3, 'svc__gamma': 1, 'svc__kernel': 'poly'}\n",
      "              precision    recall  f1-score   support\n",
      "\n",
      "           0       1.00      0.99      1.00       392\n",
      "           1       0.98      1.00      0.99       147\n",
      "\n",
      "    accuracy                           0.99       539\n",
      "   macro avg       0.99      1.00      0.99       539\n",
      "weighted avg       0.99      0.99      0.99       539\n",
      "\n",
      "[[389   3]\n",
      " [  0 147]]\n"
     ]
    }
   ],
   "source": [
    "import pandas as pd\n",
    "import numpy as np\n",
    "from sklearn.preprocessing import StandardScaler\n",
    "from sklearn.decomposition import PCA\n",
    "from sklearn.svm import SVC\n",
    "from sklearn.metrics import classification_report, confusion_matrix\n",
    "from sklearn.model_selection import StratifiedKFold, GridSearchCV\n",
    "from imblearn.over_sampling import SMOTE\n",
    "from imblearn.pipeline import Pipeline\n",
    "df = pd.read_csv(r'C:\\Users\\parul.kakade\\Documents\\NIFTY_Prediction\\6.SVM\\Data\\merged_big.csv')\n",
    "df.drop(columns=['Ticker_x', 'Ticker_y'], inplace=True)\n",
    "df['target'] = (df['Close'] > (1.003*df['Open'])).astype(int) #add level diff 0.3 pct of nifty\n",
    "feature_cols = df.columns.difference(['Date','Close','target'])\n",
    "lagged_df = df[feature_cols].shift(1)\n",
    "lagged_df['Open'] = df['Open']\n",
    "lagged_df['target'] = df['target']\n",
    "lagged_df['Date'] = df['Date']\n",
    "lagged_df.dropna(inplace=True)\n",
    "\n",
    "X = lagged_df.drop(columns=['target']).select_dtypes(include=[np.number])\n",
    "y = lagged_df['target']\n",
    "\n",
    "pipeline = Pipeline([\n",
    "    ('scaler', StandardScaler()),\n",
    "    ('pca', PCA(n_components=0.95)),\n",
    "    ('smote', SMOTE(random_state=42)),\n",
    "    ('svc', SVC())\n",
    "])\n",
    "\n",
    "param_grid = {\n",
    "    'svc__C': [0.1, 1, 10],\n",
    "    'svc__gamma': ['scale', 0.01, 0.1, 1],\n",
    "    # 'svc__kernel': ['rbf']\n",
    "    'svc__kernel': ['linear', 'poly', 'rbf', 'sigmoid'],\n",
    "    'svc__degree': [2, 3, 4]\n",
    "}\n",
    "\n",
    "cv = StratifiedKFold(n_splits=5, shuffle=True, random_state=42)\n",
    "grid = GridSearchCV(pipeline, param_grid, cv=cv, scoring='f1', n_jobs=-1)\n",
    "grid.fit(X, y)\n",
    "\n",
    "best_model = grid.best_estimator_\n",
    "y_pred = best_model.predict(X)\n",
    "\n",
    "print(\"Best Params:\", grid.best_params_)\n",
    "print(classification_report(y, y_pred, target_names=['0','1']))\n",
    "print(confusion_matrix(y, y_pred))\n",
    "\n",
    "results_df = pd.DataFrame({'Date': lagged_df['Date'].values,'Actual': y.values, 'Predicted': y_pred}, index=y.index)"
   ]
  },
  {
   "cell_type": "code",
   "execution_count": 23,
   "id": "a37930cc",
   "metadata": {},
   "outputs": [],
   "source": [
    "results_df.to_csv(r'predictions.csv', index=False)"
   ]
  },
  {
   "cell_type": "code",
   "execution_count": 24,
   "id": "eabd56b9",
   "metadata": {},
   "outputs": [
    {
     "name": "stdout",
     "output_type": "stream",
     "text": [
      "Model saved successfully!\n"
     ]
    }
   ],
   "source": [
    "import joblib\n",
    "\n",
    "joblib.dump(best_model, r\"C:\\Users\\parul.kakade\\Documents\\NIFTY_Prediction\\6.SVM\\model_svm.pkl\")\n",
    "print(\"Model saved successfully!\")\n"
   ]
  },
  {
   "cell_type": "code",
   "execution_count": null,
   "id": "6314e35b",
   "metadata": {},
   "outputs": [],
   "source": [
    "import joblib\n",
    "import pandas as pd\n",
    "import numpy as np\n",
    "\n",
    "model = joblib.load(r\"C:\\Users\\parul.kakade\\Documents\\NIFTY_Prediction\\6.SVM\\model_svm.pkl\")\n",
    "print(\"Model loaded successfully!\")\n",
    "new_df = pd.read_csv(r'live_data.csv')\n",
    "feature_cols = new_df.columns.difference(['Date','Close','target'])\n",
    "\n",
    "lagged_live = new_df[feature_cols].shift(1)\n",
    "lagged_live['Open'] = new_df['Open']\n",
    "lagged_live.dropna(inplace=True)\n",
    "\n",
    "X_live = lagged_live.select_dtypes(include=[np.number])\n",
    "\n",
    "y_pred_live = model.predict(X_live)\n",
    "print(\"Prediction:\", y_pred_live)\n",
    "results_live = pd.DataFrame({'Date': new_df['Date'].iloc[lagged_live.index].values,\n",
    "                             'Predicted': y_pred_live},\n",
    "                             index=lagged_live.index)\n",
    "results_live.to_csv(r\"C:\\Users\\parul.kakade\\Documents\\NIFTY_Prediction\\6.SVM\\live_predictions.csv\", index=False)\n"
   ]
  }
 ],
 "metadata": {
  "kernelspec": {
   "display_name": "6-svm",
   "language": "python",
   "name": "python3"
  },
  "language_info": {
   "codemirror_mode": {
    "name": "ipython",
    "version": 3
   },
   "file_extension": ".py",
   "mimetype": "text/x-python",
   "name": "python",
   "nbconvert_exporter": "python",
   "pygments_lexer": "ipython3",
   "version": "3.12.9"
  }
 },
 "nbformat": 4,
 "nbformat_minor": 5
}
